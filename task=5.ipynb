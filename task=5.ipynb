{
 "cells": [
  {
   "cell_type": "code",
   "execution_count": 28,
   "metadata": {
    "executionInfo": {
     "elapsed": 333,
     "status": "ok",
     "timestamp": 1693981860271,
     "user": {
      "displayName": "IQRA AKRAM",
      "userId": "12548164807019906115"
     },
     "user_tz": -300
    },
    "id": "s8RgGWV3LUe-"
   },
   "outputs": [],
   "source": [
    "import pandas as pd\n",
    "import numpy as np\n",
    "import matplotlib.pyplot as plt\n",
    "from sklearn.model_selection import train_test_split\n",
    "from sklearn.linear_model import LogisticRegression\n",
    "from sklearn.metrics import accuracy_score\n"
   ]
  },
  {
   "cell_type": "code",
   "execution_count": 2,
   "metadata": {
    "executionInfo": {
     "elapsed": 2552,
     "status": "ok",
     "timestamp": 1693981723188,
     "user": {
      "displayName": "IQRA AKRAM",
      "userId": "12548164807019906115"
     },
     "user_tz": -300
    },
    "id": "9f5bgj-HLXpZ"
   },
   "outputs": [],
   "source": [
    "df=pd.read_csv('creditcard.csv')"
   ]
  },
  {
   "cell_type": "code",
   "execution_count": 3,
   "metadata": {
    "colab": {
     "base_uri": "https://localhost:8080/",
     "height": 255
    },
    "executionInfo": {
     "elapsed": 19,
     "status": "ok",
     "timestamp": 1693981875836,
     "user": {
      "displayName": "IQRA AKRAM",
      "userId": "12548164807019906115"
     },
     "user_tz": -300
    },
    "id": "ZT_QbJuKLbqD",
    "outputId": "72ac2c0f-322b-4767-f92f-60afe676293c"
   },
   "outputs": [
    {
     "data": {
      "text/html": [
       "<div>\n",
       "<style scoped>\n",
       "    .dataframe tbody tr th:only-of-type {\n",
       "        vertical-align: middle;\n",
       "    }\n",
       "\n",
       "    .dataframe tbody tr th {\n",
       "        vertical-align: top;\n",
       "    }\n",
       "\n",
       "    .dataframe thead th {\n",
       "        text-align: right;\n",
       "    }\n",
       "</style>\n",
       "<table border=\"1\" class=\"dataframe\">\n",
       "  <thead>\n",
       "    <tr style=\"text-align: right;\">\n",
       "      <th></th>\n",
       "      <th>Time</th>\n",
       "      <th>V1</th>\n",
       "      <th>V2</th>\n",
       "      <th>V3</th>\n",
       "      <th>V4</th>\n",
       "      <th>V5</th>\n",
       "      <th>V6</th>\n",
       "      <th>V7</th>\n",
       "      <th>V8</th>\n",
       "      <th>V9</th>\n",
       "      <th>...</th>\n",
       "      <th>V21</th>\n",
       "      <th>V22</th>\n",
       "      <th>V23</th>\n",
       "      <th>V24</th>\n",
       "      <th>V25</th>\n",
       "      <th>V26</th>\n",
       "      <th>V27</th>\n",
       "      <th>V28</th>\n",
       "      <th>Amount</th>\n",
       "      <th>Class</th>\n",
       "    </tr>\n",
       "  </thead>\n",
       "  <tbody>\n",
       "    <tr>\n",
       "      <th>0</th>\n",
       "      <td>0.0</td>\n",
       "      <td>-1.359807</td>\n",
       "      <td>-0.072781</td>\n",
       "      <td>2.536347</td>\n",
       "      <td>1.378155</td>\n",
       "      <td>-0.338321</td>\n",
       "      <td>0.462388</td>\n",
       "      <td>0.239599</td>\n",
       "      <td>0.098698</td>\n",
       "      <td>0.363787</td>\n",
       "      <td>...</td>\n",
       "      <td>-0.018307</td>\n",
       "      <td>0.277838</td>\n",
       "      <td>-0.110474</td>\n",
       "      <td>0.066928</td>\n",
       "      <td>0.128539</td>\n",
       "      <td>-0.189115</td>\n",
       "      <td>0.133558</td>\n",
       "      <td>-0.021053</td>\n",
       "      <td>149.62</td>\n",
       "      <td>0</td>\n",
       "    </tr>\n",
       "    <tr>\n",
       "      <th>1</th>\n",
       "      <td>0.0</td>\n",
       "      <td>1.191857</td>\n",
       "      <td>0.266151</td>\n",
       "      <td>0.166480</td>\n",
       "      <td>0.448154</td>\n",
       "      <td>0.060018</td>\n",
       "      <td>-0.082361</td>\n",
       "      <td>-0.078803</td>\n",
       "      <td>0.085102</td>\n",
       "      <td>-0.255425</td>\n",
       "      <td>...</td>\n",
       "      <td>-0.225775</td>\n",
       "      <td>-0.638672</td>\n",
       "      <td>0.101288</td>\n",
       "      <td>-0.339846</td>\n",
       "      <td>0.167170</td>\n",
       "      <td>0.125895</td>\n",
       "      <td>-0.008983</td>\n",
       "      <td>0.014724</td>\n",
       "      <td>2.69</td>\n",
       "      <td>0</td>\n",
       "    </tr>\n",
       "    <tr>\n",
       "      <th>2</th>\n",
       "      <td>1.0</td>\n",
       "      <td>-1.358354</td>\n",
       "      <td>-1.340163</td>\n",
       "      <td>1.773209</td>\n",
       "      <td>0.379780</td>\n",
       "      <td>-0.503198</td>\n",
       "      <td>1.800499</td>\n",
       "      <td>0.791461</td>\n",
       "      <td>0.247676</td>\n",
       "      <td>-1.514654</td>\n",
       "      <td>...</td>\n",
       "      <td>0.247998</td>\n",
       "      <td>0.771679</td>\n",
       "      <td>0.909412</td>\n",
       "      <td>-0.689281</td>\n",
       "      <td>-0.327642</td>\n",
       "      <td>-0.139097</td>\n",
       "      <td>-0.055353</td>\n",
       "      <td>-0.059752</td>\n",
       "      <td>378.66</td>\n",
       "      <td>0</td>\n",
       "    </tr>\n",
       "    <tr>\n",
       "      <th>3</th>\n",
       "      <td>1.0</td>\n",
       "      <td>-0.966272</td>\n",
       "      <td>-0.185226</td>\n",
       "      <td>1.792993</td>\n",
       "      <td>-0.863291</td>\n",
       "      <td>-0.010309</td>\n",
       "      <td>1.247203</td>\n",
       "      <td>0.237609</td>\n",
       "      <td>0.377436</td>\n",
       "      <td>-1.387024</td>\n",
       "      <td>...</td>\n",
       "      <td>-0.108300</td>\n",
       "      <td>0.005274</td>\n",
       "      <td>-0.190321</td>\n",
       "      <td>-1.175575</td>\n",
       "      <td>0.647376</td>\n",
       "      <td>-0.221929</td>\n",
       "      <td>0.062723</td>\n",
       "      <td>0.061458</td>\n",
       "      <td>123.50</td>\n",
       "      <td>0</td>\n",
       "    </tr>\n",
       "    <tr>\n",
       "      <th>4</th>\n",
       "      <td>2.0</td>\n",
       "      <td>-1.158233</td>\n",
       "      <td>0.877737</td>\n",
       "      <td>1.548718</td>\n",
       "      <td>0.403034</td>\n",
       "      <td>-0.407193</td>\n",
       "      <td>0.095921</td>\n",
       "      <td>0.592941</td>\n",
       "      <td>-0.270533</td>\n",
       "      <td>0.817739</td>\n",
       "      <td>...</td>\n",
       "      <td>-0.009431</td>\n",
       "      <td>0.798278</td>\n",
       "      <td>-0.137458</td>\n",
       "      <td>0.141267</td>\n",
       "      <td>-0.206010</td>\n",
       "      <td>0.502292</td>\n",
       "      <td>0.219422</td>\n",
       "      <td>0.215153</td>\n",
       "      <td>69.99</td>\n",
       "      <td>0</td>\n",
       "    </tr>\n",
       "  </tbody>\n",
       "</table>\n",
       "<p>5 rows × 31 columns</p>\n",
       "</div>"
      ],
      "text/plain": [
       "   Time        V1        V2        V3        V4        V5        V6        V7  \\\n",
       "0   0.0 -1.359807 -0.072781  2.536347  1.378155 -0.338321  0.462388  0.239599   \n",
       "1   0.0  1.191857  0.266151  0.166480  0.448154  0.060018 -0.082361 -0.078803   \n",
       "2   1.0 -1.358354 -1.340163  1.773209  0.379780 -0.503198  1.800499  0.791461   \n",
       "3   1.0 -0.966272 -0.185226  1.792993 -0.863291 -0.010309  1.247203  0.237609   \n",
       "4   2.0 -1.158233  0.877737  1.548718  0.403034 -0.407193  0.095921  0.592941   \n",
       "\n",
       "         V8        V9  ...       V21       V22       V23       V24       V25  \\\n",
       "0  0.098698  0.363787  ... -0.018307  0.277838 -0.110474  0.066928  0.128539   \n",
       "1  0.085102 -0.255425  ... -0.225775 -0.638672  0.101288 -0.339846  0.167170   \n",
       "2  0.247676 -1.514654  ...  0.247998  0.771679  0.909412 -0.689281 -0.327642   \n",
       "3  0.377436 -1.387024  ... -0.108300  0.005274 -0.190321 -1.175575  0.647376   \n",
       "4 -0.270533  0.817739  ... -0.009431  0.798278 -0.137458  0.141267 -0.206010   \n",
       "\n",
       "        V26       V27       V28  Amount  Class  \n",
       "0 -0.189115  0.133558 -0.021053  149.62      0  \n",
       "1  0.125895 -0.008983  0.014724    2.69      0  \n",
       "2 -0.139097 -0.055353 -0.059752  378.66      0  \n",
       "3 -0.221929  0.062723  0.061458  123.50      0  \n",
       "4  0.502292  0.219422  0.215153   69.99      0  \n",
       "\n",
       "[5 rows x 31 columns]"
      ]
     },
     "execution_count": 3,
     "metadata": {},
     "output_type": "execute_result"
    }
   ],
   "source": [
    "df.head(5)"
   ]
  },
  {
   "cell_type": "code",
   "execution_count": 4,
   "metadata": {
    "colab": {
     "base_uri": "https://localhost:8080/",
     "height": 255
    },
    "executionInfo": {
     "elapsed": 8,
     "status": "ok",
     "timestamp": 1693981894497,
     "user": {
      "displayName": "IQRA AKRAM",
      "userId": "12548164807019906115"
     },
     "user_tz": -300
    },
    "id": "RsUCnGaqLdMX",
    "outputId": "7299b62d-8bc1-4093-b3c6-45ef1c4449e8"
   },
   "outputs": [
    {
     "data": {
      "text/html": [
       "<div>\n",
       "<style scoped>\n",
       "    .dataframe tbody tr th:only-of-type {\n",
       "        vertical-align: middle;\n",
       "    }\n",
       "\n",
       "    .dataframe tbody tr th {\n",
       "        vertical-align: top;\n",
       "    }\n",
       "\n",
       "    .dataframe thead th {\n",
       "        text-align: right;\n",
       "    }\n",
       "</style>\n",
       "<table border=\"1\" class=\"dataframe\">\n",
       "  <thead>\n",
       "    <tr style=\"text-align: right;\">\n",
       "      <th></th>\n",
       "      <th>Time</th>\n",
       "      <th>V1</th>\n",
       "      <th>V2</th>\n",
       "      <th>V3</th>\n",
       "      <th>V4</th>\n",
       "      <th>V5</th>\n",
       "      <th>V6</th>\n",
       "      <th>V7</th>\n",
       "      <th>V8</th>\n",
       "      <th>V9</th>\n",
       "      <th>...</th>\n",
       "      <th>V21</th>\n",
       "      <th>V22</th>\n",
       "      <th>V23</th>\n",
       "      <th>V24</th>\n",
       "      <th>V25</th>\n",
       "      <th>V26</th>\n",
       "      <th>V27</th>\n",
       "      <th>V28</th>\n",
       "      <th>Amount</th>\n",
       "      <th>Class</th>\n",
       "    </tr>\n",
       "  </thead>\n",
       "  <tbody>\n",
       "    <tr>\n",
       "      <th>284802</th>\n",
       "      <td>172786.0</td>\n",
       "      <td>-11.881118</td>\n",
       "      <td>10.071785</td>\n",
       "      <td>-9.834783</td>\n",
       "      <td>-2.066656</td>\n",
       "      <td>-5.364473</td>\n",
       "      <td>-2.606837</td>\n",
       "      <td>-4.918215</td>\n",
       "      <td>7.305334</td>\n",
       "      <td>1.914428</td>\n",
       "      <td>...</td>\n",
       "      <td>0.213454</td>\n",
       "      <td>0.111864</td>\n",
       "      <td>1.014480</td>\n",
       "      <td>-0.509348</td>\n",
       "      <td>1.436807</td>\n",
       "      <td>0.250034</td>\n",
       "      <td>0.943651</td>\n",
       "      <td>0.823731</td>\n",
       "      <td>0.77</td>\n",
       "      <td>0</td>\n",
       "    </tr>\n",
       "    <tr>\n",
       "      <th>284803</th>\n",
       "      <td>172787.0</td>\n",
       "      <td>-0.732789</td>\n",
       "      <td>-0.055080</td>\n",
       "      <td>2.035030</td>\n",
       "      <td>-0.738589</td>\n",
       "      <td>0.868229</td>\n",
       "      <td>1.058415</td>\n",
       "      <td>0.024330</td>\n",
       "      <td>0.294869</td>\n",
       "      <td>0.584800</td>\n",
       "      <td>...</td>\n",
       "      <td>0.214205</td>\n",
       "      <td>0.924384</td>\n",
       "      <td>0.012463</td>\n",
       "      <td>-1.016226</td>\n",
       "      <td>-0.606624</td>\n",
       "      <td>-0.395255</td>\n",
       "      <td>0.068472</td>\n",
       "      <td>-0.053527</td>\n",
       "      <td>24.79</td>\n",
       "      <td>0</td>\n",
       "    </tr>\n",
       "    <tr>\n",
       "      <th>284804</th>\n",
       "      <td>172788.0</td>\n",
       "      <td>1.919565</td>\n",
       "      <td>-0.301254</td>\n",
       "      <td>-3.249640</td>\n",
       "      <td>-0.557828</td>\n",
       "      <td>2.630515</td>\n",
       "      <td>3.031260</td>\n",
       "      <td>-0.296827</td>\n",
       "      <td>0.708417</td>\n",
       "      <td>0.432454</td>\n",
       "      <td>...</td>\n",
       "      <td>0.232045</td>\n",
       "      <td>0.578229</td>\n",
       "      <td>-0.037501</td>\n",
       "      <td>0.640134</td>\n",
       "      <td>0.265745</td>\n",
       "      <td>-0.087371</td>\n",
       "      <td>0.004455</td>\n",
       "      <td>-0.026561</td>\n",
       "      <td>67.88</td>\n",
       "      <td>0</td>\n",
       "    </tr>\n",
       "    <tr>\n",
       "      <th>284805</th>\n",
       "      <td>172788.0</td>\n",
       "      <td>-0.240440</td>\n",
       "      <td>0.530483</td>\n",
       "      <td>0.702510</td>\n",
       "      <td>0.689799</td>\n",
       "      <td>-0.377961</td>\n",
       "      <td>0.623708</td>\n",
       "      <td>-0.686180</td>\n",
       "      <td>0.679145</td>\n",
       "      <td>0.392087</td>\n",
       "      <td>...</td>\n",
       "      <td>0.265245</td>\n",
       "      <td>0.800049</td>\n",
       "      <td>-0.163298</td>\n",
       "      <td>0.123205</td>\n",
       "      <td>-0.569159</td>\n",
       "      <td>0.546668</td>\n",
       "      <td>0.108821</td>\n",
       "      <td>0.104533</td>\n",
       "      <td>10.00</td>\n",
       "      <td>0</td>\n",
       "    </tr>\n",
       "    <tr>\n",
       "      <th>284806</th>\n",
       "      <td>172792.0</td>\n",
       "      <td>-0.533413</td>\n",
       "      <td>-0.189733</td>\n",
       "      <td>0.703337</td>\n",
       "      <td>-0.506271</td>\n",
       "      <td>-0.012546</td>\n",
       "      <td>-0.649617</td>\n",
       "      <td>1.577006</td>\n",
       "      <td>-0.414650</td>\n",
       "      <td>0.486180</td>\n",
       "      <td>...</td>\n",
       "      <td>0.261057</td>\n",
       "      <td>0.643078</td>\n",
       "      <td>0.376777</td>\n",
       "      <td>0.008797</td>\n",
       "      <td>-0.473649</td>\n",
       "      <td>-0.818267</td>\n",
       "      <td>-0.002415</td>\n",
       "      <td>0.013649</td>\n",
       "      <td>217.00</td>\n",
       "      <td>0</td>\n",
       "    </tr>\n",
       "  </tbody>\n",
       "</table>\n",
       "<p>5 rows × 31 columns</p>\n",
       "</div>"
      ],
      "text/plain": [
       "            Time         V1         V2        V3        V4        V5  \\\n",
       "284802  172786.0 -11.881118  10.071785 -9.834783 -2.066656 -5.364473   \n",
       "284803  172787.0  -0.732789  -0.055080  2.035030 -0.738589  0.868229   \n",
       "284804  172788.0   1.919565  -0.301254 -3.249640 -0.557828  2.630515   \n",
       "284805  172788.0  -0.240440   0.530483  0.702510  0.689799 -0.377961   \n",
       "284806  172792.0  -0.533413  -0.189733  0.703337 -0.506271 -0.012546   \n",
       "\n",
       "              V6        V7        V8        V9  ...       V21       V22  \\\n",
       "284802 -2.606837 -4.918215  7.305334  1.914428  ...  0.213454  0.111864   \n",
       "284803  1.058415  0.024330  0.294869  0.584800  ...  0.214205  0.924384   \n",
       "284804  3.031260 -0.296827  0.708417  0.432454  ...  0.232045  0.578229   \n",
       "284805  0.623708 -0.686180  0.679145  0.392087  ...  0.265245  0.800049   \n",
       "284806 -0.649617  1.577006 -0.414650  0.486180  ...  0.261057  0.643078   \n",
       "\n",
       "             V23       V24       V25       V26       V27       V28  Amount  \\\n",
       "284802  1.014480 -0.509348  1.436807  0.250034  0.943651  0.823731    0.77   \n",
       "284803  0.012463 -1.016226 -0.606624 -0.395255  0.068472 -0.053527   24.79   \n",
       "284804 -0.037501  0.640134  0.265745 -0.087371  0.004455 -0.026561   67.88   \n",
       "284805 -0.163298  0.123205 -0.569159  0.546668  0.108821  0.104533   10.00   \n",
       "284806  0.376777  0.008797 -0.473649 -0.818267 -0.002415  0.013649  217.00   \n",
       "\n",
       "        Class  \n",
       "284802      0  \n",
       "284803      0  \n",
       "284804      0  \n",
       "284805      0  \n",
       "284806      0  \n",
       "\n",
       "[5 rows x 31 columns]"
      ]
     },
     "execution_count": 4,
     "metadata": {},
     "output_type": "execute_result"
    }
   ],
   "source": [
    "df.tail(5)"
   ]
  },
  {
   "cell_type": "code",
   "execution_count": 9,
   "metadata": {
    "colab": {
     "base_uri": "https://localhost:8080/"
    },
    "executionInfo": {
     "elapsed": 10,
     "status": "ok",
     "timestamp": 1693981919061,
     "user": {
      "displayName": "IQRA AKRAM",
      "userId": "12548164807019906115"
     },
     "user_tz": -300
    },
    "id": "P3dEi8zZMGPu",
    "outputId": "f2f83e66-5fdc-455c-a63e-7042f930d97e"
   },
   "outputs": [
    {
     "name": "stdout",
     "output_type": "stream",
     "text": [
      "<class 'pandas.core.frame.DataFrame'>\n",
      "\n",
      "RangeIndex: 284807 entries, 0 to 284806\n",
      "\n",
      "Data columns (total 31 columns):\n",
      "\n",
      " #   Column  Non-Null Count   Dtype  \n",
      "\n",
      "---  ------  --------------   -----  \n",
      "\n",
      " 0   Time    284807 non-null  float64\n",
      "\n",
      " 1   V1      284807 non-null  float64\n",
      "\n",
      " 2   V2      284807 non-null  float64\n",
      "\n",
      " 3   V3      284807 non-null  float64\n",
      "\n",
      " 4   V4      284807 non-null  float64\n",
      "\n",
      " 5   V5      284807 non-null  float64\n",
      "\n",
      " 6   V6      284807 non-null  float64\n",
      "\n",
      " 7   V7      284807 non-null  float64\n",
      "\n",
      " 8   V8      284807 non-null  float64\n",
      "\n",
      " 9   V9      284807 non-null  float64\n",
      "\n",
      " 10  V10     284807 non-null  float64\n",
      "\n",
      " 11  V11     284807 non-null  float64\n",
      "\n",
      " 12  V12     284807 non-null  float64\n",
      "\n",
      " 13  V13     284807 non-null  float64\n",
      "\n",
      " 14  V14     284807 non-null  float64\n",
      "\n",
      " 15  V15     284807 non-null  float64\n",
      "\n",
      " 16  V16     284807 non-null  float64\n",
      "\n",
      " 17  V17     284807 non-null  float64\n",
      "\n",
      " 18  V18     284807 non-null  float64\n",
      "\n",
      " 19  V19     284807 non-null  float64\n",
      "\n",
      " 20  V20     284807 non-null  float64\n",
      "\n",
      " 21  V21     284807 non-null  float64\n",
      "\n",
      " 22  V22     284807 non-null  float64\n",
      "\n",
      " 23  V23     284807 non-null  float64\n",
      "\n",
      " 24  V24     284807 non-null  float64\n",
      "\n",
      " 25  V25     284807 non-null  float64\n",
      "\n",
      " 26  V26     284807 non-null  float64\n",
      "\n",
      " 27  V27     284807 non-null  float64\n",
      "\n",
      " 28  V28     284807 non-null  float64\n",
      "\n",
      " 29  Amount  284807 non-null  float64\n",
      "\n",
      " 30  Class   284807 non-null  int64  \n",
      "\n",
      "dtypes: float64(30), int64(1)\n",
      "\n",
      "memory usage: 67.4 MB\n"
     ]
    }
   ],
   "source": [
    "df.info()"
   ]
  },
  {
   "cell_type": "code",
   "execution_count": 5,
   "metadata": {
    "colab": {
     "base_uri": "https://localhost:8080/"
    },
    "executionInfo": {
     "elapsed": 5,
     "status": "ok",
     "timestamp": 1693981953377,
     "user": {
      "displayName": "IQRA AKRAM",
      "userId": "12548164807019906115"
     },
     "user_tz": -300
    },
    "id": "f-UbNZsaMMJO",
    "outputId": "ac59081e-e428-4afa-ae9f-23f383bafe38"
   },
   "outputs": [
    {
     "data": {
      "text/plain": [
       "Time      0\n",
       "V1        0\n",
       "V2        0\n",
       "V3        0\n",
       "V4        0\n",
       "V5        0\n",
       "V6        0\n",
       "V7        0\n",
       "V8        0\n",
       "V9        0\n",
       "V10       0\n",
       "V11       0\n",
       "V12       0\n",
       "V13       0\n",
       "V14       0\n",
       "V15       0\n",
       "V16       0\n",
       "V17       0\n",
       "V18       0\n",
       "V19       0\n",
       "V20       0\n",
       "V21       0\n",
       "V22       0\n",
       "V23       0\n",
       "V24       0\n",
       "V25       0\n",
       "V26       0\n",
       "V27       0\n",
       "V28       0\n",
       "Amount    0\n",
       "Class     0\n",
       "dtype: int64"
      ]
     },
     "execution_count": 5,
     "metadata": {},
     "output_type": "execute_result"
    }
   ],
   "source": [
    "df.isnull().sum()"
   ]
  },
  {
   "cell_type": "code",
   "execution_count": 6,
   "metadata": {
    "colab": {
     "base_uri": "https://localhost:8080/"
    },
    "executionInfo": {
     "elapsed": 325,
     "status": "ok",
     "timestamp": 1693982073727,
     "user": {
      "displayName": "IQRA AKRAM",
      "userId": "12548164807019906115"
     },
     "user_tz": -300
    },
    "id": "O68bfDLAMUej",
    "outputId": "cb16fcb3-50c8-4a15-e8b9-1e5554d6f9ea"
   },
   "outputs": [
    {
     "data": {
      "text/plain": [
       "Class\n",
       "0    284315\n",
       "1       492\n",
       "Name: count, dtype: int64"
      ]
     },
     "execution_count": 6,
     "metadata": {},
     "output_type": "execute_result"
    }
   ],
   "source": [
    "df[\"Class\"].value_counts()\n",
    "# data is higly imbalance as you can see that the fraud transaction are only 492 and non Fraud transaction are 284315\n"
   ]
  },
  {
   "cell_type": "code",
   "execution_count": 70,
   "metadata": {
    "colab": {
     "base_uri": "https://localhost:8080/",
     "height": 564
    },
    "executionInfo": {
     "elapsed": 480,
     "status": "ok",
     "timestamp": 1693985375742,
     "user": {
      "displayName": "IQRA AKRAM",
      "userId": "12548164807019906115"
     },
     "user_tz": -300
    },
    "id": "2wHKOkMMZXTj",
    "outputId": "f222865d-361f-4564-cb22-8f5a4ca42577"
   },
   "outputs": [
    {
     "data": {
      "image/png": "[encoded data removed]",
      "text/plain": [
       "<Figure size 800x600 with 1 Axes>"
      ]
     },
     "metadata": {},
     "output_type": "display_data"
    }
   ],
   "source": [
    "import matplotlib.pyplot as plt\n",
    "\n",
    "class_totals = df.groupby('Class')['Amount'].sum().reset_index()\n",
    "\n",
    "# Create a bar chart\n",
    "plt.figure(figsize=(8, 6))\n",
    "plt.bar(class_totals['Class'].astype(str), class_totals['Amount'], color=['red', 'green'])\n",
    "plt.xlabel('Transaction Class')\n",
    "plt.ylabel('Total Amount')\n",
    "plt.title('Total Amount by Transaction Class')\n",
    "plt.xticks([0, 1], ['0 (Legal)', '1 (Fraud)'])  # Label the x-axis ticks\n",
    "plt.show()"
   ]
  },
  {
   "cell_type": "markdown",
   "metadata": {
    "id": "wy8L5ptqaKsk"
   },
   "source": [
    "here is some visuals of imbalanced Dataset so thats why it was important balance the Dataset before training the model"
   ]
  },
  {
   "cell_type": "code",
   "execution_count": 7,
   "metadata": {
    "executionInfo": {
     "elapsed": 6,
     "status": "ok",
     "timestamp": 1693982219001,
     "user": {
      "displayName": "IQRA AKRAM",
      "userId": "12548164807019906115"
     },
     "user_tz": -300
    },
    "id": "jfCJX26oMa7p"
   },
   "outputs": [],
   "source": [
    "legal=df[df.Class==0]\n",
    "fraud=df[df.Class==1]"
   ]
  },
  {
   "cell_type": "code",
   "execution_count": 8,
   "metadata": {
    "colab": {
     "base_uri": "https://localhost:8080/"
    },
    "executionInfo": {
     "elapsed": 8,
     "status": "ok",
     "timestamp": 1693982328907,
     "user": {
      "displayName": "IQRA AKRAM",
      "userId": "12548164807019906115"
     },
     "user_tz": -300
    },
    "id": "j9iZ_c-GNC_s",
    "outputId": "f3e1082a-a23b-4c28-a4fb-d93363c6ab9c"
   },
   "outputs": [
    {
     "data": {
      "text/plain": [
       "count    284315.000000\n",
       "mean         88.291022\n",
       "std         250.105092\n",
       "min           0.000000\n",
       "25%           5.650000\n",
       "50%          22.000000\n",
       "75%          77.050000\n",
       "max       25691.160000\n",
       "Name: Amount, dtype: float64"
      ]
     },
     "execution_count": 8,
     "metadata": {},
     "output_type": "execute_result"
    }
   ],
   "source": [
    "legal.Amount.describe()\n"
   ]
  },
  {
   "cell_type": "code",
   "execution_count": 9,
   "metadata": {
    "colab": {
     "base_uri": "https://localhost:8080/"
    },
    "executionInfo": {
     "elapsed": 3,
     "status": "ok",
     "timestamp": 1693982338871,
     "user": {
      "displayName": "IQRA AKRAM",
      "userId": "12548164807019906115"
     },
     "user_tz": -300
    },
    "id": "l-QExAk9NEAX",
    "outputId": "6bdbf33d-c71d-4faf-ebb3-82ad6f251bd6"
   },
   "outputs": [
    {
     "data": {
      "text/plain": [
       "count     492.000000\n",
       "mean      122.211321\n",
       "std       256.683288\n",
       "min         0.000000\n",
       "25%         1.000000\n",
       "50%         9.250000\n",
       "75%       105.890000\n",
       "max      2125.870000\n",
       "Name: Amount, dtype: float64"
      ]
     },
     "execution_count": 9,
     "metadata": {},
     "output_type": "execute_result"
    }
   ],
   "source": [
    "fraud.Amount.describe()"
   ]
  },
  {
   "cell_type": "code",
   "execution_count": 10,
   "metadata": {
    "colab": {
     "base_uri": "https://localhost:8080/",
     "height": 193
    },
    "executionInfo": {
     "elapsed": 13,
     "status": "ok",
     "timestamp": 1693982475474,
     "user": {
      "displayName": "IQRA AKRAM",
      "userId": "12548164807019906115"
     },
     "user_tz": -300
    },
    "id": "oifZ3H9_NczP",
    "outputId": "960897c4-a792-4eaa-cca8-9673eaf45c54"
   },
   "outputs": [
    {
     "data": {
      "text/html": [
       "<div>\n",
       "<style scoped>\n",
       "    .dataframe tbody tr th:only-of-type {\n",
       "        vertical-align: middle;\n",
       "    }\n",
       "\n",
       "    .dataframe tbody tr th {\n",
       "        vertical-align: top;\n",
       "    }\n",
       "\n",
       "    .dataframe thead th {\n",
       "        text-align: right;\n",
       "    }\n",
       "</style>\n",
       "<table border=\"1\" class=\"dataframe\">\n",
       "  <thead>\n",
       "    <tr style=\"text-align: right;\">\n",
       "      <th></th>\n",
       "      <th>Time</th>\n",
       "      <th>V1</th>\n",
       "      <th>V2</th>\n",
       "      <th>V3</th>\n",
       "      <th>V4</th>\n",
       "      <th>V5</th>\n",
       "      <th>V6</th>\n",
       "      <th>V7</th>\n",
       "      <th>V8</th>\n",
       "      <th>V9</th>\n",
       "      <th>...</th>\n",
       "      <th>V20</th>\n",
       "      <th>V21</th>\n",
       "      <th>V22</th>\n",
       "      <th>V23</th>\n",
       "      <th>V24</th>\n",
       "      <th>V25</th>\n",
       "      <th>V26</th>\n",
       "      <th>V27</th>\n",
       "      <th>V28</th>\n",
       "      <th>Amount</th>\n",
       "    </tr>\n",
       "    <tr>\n",
       "      <th>Class</th>\n",
       "      <th></th>\n",
       "      <th></th>\n",
       "      <th></th>\n",
       "      <th></th>\n",
       "      <th></th>\n",
       "      <th></th>\n",
       "      <th></th>\n",
       "      <th></th>\n",
       "      <th></th>\n",
       "      <th></th>\n",
       "      <th></th>\n",
       "      <th></th>\n",
       "      <th></th>\n",
       "      <th></th>\n",
       "      <th></th>\n",
       "      <th></th>\n",
       "      <th></th>\n",
       "      <th></th>\n",
       "      <th></th>\n",
       "      <th></th>\n",
       "      <th></th>\n",
       "    </tr>\n",
       "  </thead>\n",
       "  <tbody>\n",
       "    <tr>\n",
       "      <th>0</th>\n",
       "      <td>94838.202258</td>\n",
       "      <td>0.008258</td>\n",
       "      <td>-0.006271</td>\n",
       "      <td>0.012171</td>\n",
       "      <td>-0.007860</td>\n",
       "      <td>0.005453</td>\n",
       "      <td>0.002419</td>\n",
       "      <td>0.009637</td>\n",
       "      <td>-0.000987</td>\n",
       "      <td>0.004467</td>\n",
       "      <td>...</td>\n",
       "      <td>-0.000644</td>\n",
       "      <td>-0.001235</td>\n",
       "      <td>-0.000024</td>\n",
       "      <td>0.000070</td>\n",
       "      <td>0.000182</td>\n",
       "      <td>-0.000072</td>\n",
       "      <td>-0.000089</td>\n",
       "      <td>-0.000295</td>\n",
       "      <td>-0.000131</td>\n",
       "      <td>88.291022</td>\n",
       "    </tr>\n",
       "    <tr>\n",
       "      <th>1</th>\n",
       "      <td>80746.806911</td>\n",
       "      <td>-4.771948</td>\n",
       "      <td>3.623778</td>\n",
       "      <td>-7.033281</td>\n",
       "      <td>4.542029</td>\n",
       "      <td>-3.151225</td>\n",
       "      <td>-1.397737</td>\n",
       "      <td>-5.568731</td>\n",
       "      <td>0.570636</td>\n",
       "      <td>-2.581123</td>\n",
       "      <td>...</td>\n",
       "      <td>0.372319</td>\n",
       "      <td>0.713588</td>\n",
       "      <td>0.014049</td>\n",
       "      <td>-0.040308</td>\n",
       "      <td>-0.105130</td>\n",
       "      <td>0.041449</td>\n",
       "      <td>0.051648</td>\n",
       "      <td>0.170575</td>\n",
       "      <td>0.075667</td>\n",
       "      <td>122.211321</td>\n",
       "    </tr>\n",
       "  </tbody>\n",
       "</table>\n",
       "<p>2 rows × 30 columns</p>\n",
       "</div>"
      ],
      "text/plain": [
       "               Time        V1        V2        V3        V4        V5  \\\n",
       "Class                                                                   \n",
       "0      94838.202258  0.008258 -0.006271  0.012171 -0.007860  0.005453   \n",
       "1      80746.806911 -4.771948  3.623778 -7.033281  4.542029 -3.151225   \n",
       "\n",
       "             V6        V7        V8        V9  ...       V20       V21  \\\n",
       "Class                                          ...                       \n",
       "0      0.002419  0.009637 -0.000987  0.004467  ... -0.000644 -0.001235   \n",
       "1     -1.397737 -5.568731  0.570636 -2.581123  ...  0.372319  0.713588   \n",
       "\n",
       "            V22       V23       V24       V25       V26       V27       V28  \\\n",
       "Class                                                                         \n",
       "0     -0.000024  0.000070  0.000182 -0.000072 -0.000089 -0.000295 -0.000131   \n",
       "1      0.014049 -0.040308 -0.105130  0.041449  0.051648  0.170575  0.075667   \n",
       "\n",
       "           Amount  \n",
       "Class              \n",
       "0       88.291022  \n",
       "1      122.211321  \n",
       "\n",
       "[2 rows x 30 columns]"
      ]
     },
     "execution_count": 10,
     "metadata": {},
     "output_type": "execute_result"
    }
   ],
   "source": [
    "df.groupby('Class').mean()"
   ]
  },
  {
   "cell_type": "markdown",
   "metadata": {
    "id": "FC3OkqtiOs9v"
   },
   "source": [
    "Under-Sampling\n"
   ]
  },
  {
   "cell_type": "code",
   "execution_count": 11,
   "metadata": {
    "executionInfo": {
     "elapsed": 5,
     "status": "ok",
     "timestamp": 1693982774020,
     "user": {
      "displayName": "IQRA AKRAM",
      "userId": "12548164807019906115"
     },
     "user_tz": -300
    },
    "id": "RxOmp9NAOUFz"
   },
   "outputs": [],
   "source": [
    "legal_sample=legal.sample(n=492)# because the Fraud data is 492"
   ]
  },
  {
   "cell_type": "code",
   "execution_count": 12,
   "metadata": {
    "colab": {
     "base_uri": "https://localhost:8080/",
     "height": 443
    },
    "executionInfo": {
     "elapsed": 11,
     "status": "ok",
     "timestamp": 1693982781425,
     "user": {
      "displayName": "IQRA AKRAM",
      "userId": "12548164807019906115"
     },
     "user_tz": -300
    },
    "id": "w7hIOYZbPc9x",
    "outputId": "64b237ff-d7b1-416d-ab3f-82729567e73a"
   },
   "outputs": [
    {
     "data": {
      "text/html": [
       "<div>\n",
       "<style scoped>\n",
       "    .dataframe tbody tr th:only-of-type {\n",
       "        vertical-align: middle;\n",
       "    }\n",
       "\n",
       "    .dataframe tbody tr th {\n",
       "        vertical-align: top;\n",
       "    }\n",
       "\n",
       "    .dataframe thead th {\n",
       "        text-align: right;\n",
       "    }\n",
       "</style>\n",
       "<table border=\"1\" class=\"dataframe\">\n",
       "  <thead>\n",
       "    <tr style=\"text-align: right;\">\n",
       "      <th></th>\n",
       "      <th>Time</th>\n",
       "      <th>V1</th>\n",
       "      <th>V2</th>\n",
       "      <th>V3</th>\n",
       "      <th>V4</th>\n",
       "      <th>V5</th>\n",
       "      <th>V6</th>\n",
       "      <th>V7</th>\n",
       "      <th>V8</th>\n",
       "      <th>V9</th>\n",
       "      <th>...</th>\n",
       "      <th>V21</th>\n",
       "      <th>V22</th>\n",
       "      <th>V23</th>\n",
       "      <th>V24</th>\n",
       "      <th>V25</th>\n",
       "      <th>V26</th>\n",
       "      <th>V27</th>\n",
       "      <th>V28</th>\n",
       "      <th>Amount</th>\n",
       "      <th>Class</th>\n",
       "    </tr>\n",
       "  </thead>\n",
       "  <tbody>\n",
       "    <tr>\n",
       "      <th>176470</th>\n",
       "      <td>122783.0</td>\n",
       "      <td>1.966685</td>\n",
       "      <td>-0.479094</td>\n",
       "      <td>-0.431815</td>\n",
       "      <td>-0.045090</td>\n",
       "      <td>-0.525147</td>\n",
       "      <td>-0.029613</td>\n",
       "      <td>-0.728101</td>\n",
       "      <td>0.220361</td>\n",
       "      <td>1.196864</td>\n",
       "      <td>...</td>\n",
       "      <td>-0.154520</td>\n",
       "      <td>-0.396971</td>\n",
       "      <td>0.438297</td>\n",
       "      <td>0.651224</td>\n",
       "      <td>-0.561483</td>\n",
       "      <td>-0.330433</td>\n",
       "      <td>-0.001270</td>\n",
       "      <td>-0.042397</td>\n",
       "      <td>1.23</td>\n",
       "      <td>0</td>\n",
       "    </tr>\n",
       "    <tr>\n",
       "      <th>142832</th>\n",
       "      <td>84965.0</td>\n",
       "      <td>-1.113915</td>\n",
       "      <td>0.878354</td>\n",
       "      <td>1.151768</td>\n",
       "      <td>0.134744</td>\n",
       "      <td>0.355986</td>\n",
       "      <td>-1.098831</td>\n",
       "      <td>0.718443</td>\n",
       "      <td>-0.270557</td>\n",
       "      <td>-0.355328</td>\n",
       "      <td>...</td>\n",
       "      <td>-0.249095</td>\n",
       "      <td>-0.542071</td>\n",
       "      <td>0.345410</td>\n",
       "      <td>0.358835</td>\n",
       "      <td>-0.045294</td>\n",
       "      <td>0.043555</td>\n",
       "      <td>-0.163115</td>\n",
       "      <td>0.217452</td>\n",
       "      <td>1.79</td>\n",
       "      <td>0</td>\n",
       "    </tr>\n",
       "    <tr>\n",
       "      <th>170040</th>\n",
       "      <td>119991.0</td>\n",
       "      <td>1.954641</td>\n",
       "      <td>0.566655</td>\n",
       "      <td>-1.145624</td>\n",
       "      <td>3.379096</td>\n",
       "      <td>0.982731</td>\n",
       "      <td>0.527518</td>\n",
       "      <td>0.155263</td>\n",
       "      <td>0.053430</td>\n",
       "      <td>-1.335515</td>\n",
       "      <td>...</td>\n",
       "      <td>0.236659</td>\n",
       "      <td>0.611027</td>\n",
       "      <td>0.021971</td>\n",
       "      <td>0.176043</td>\n",
       "      <td>0.178854</td>\n",
       "      <td>0.112445</td>\n",
       "      <td>-0.056986</td>\n",
       "      <td>-0.060989</td>\n",
       "      <td>4.53</td>\n",
       "      <td>0</td>\n",
       "    </tr>\n",
       "    <tr>\n",
       "      <th>161535</th>\n",
       "      <td>114294.0</td>\n",
       "      <td>2.068960</td>\n",
       "      <td>0.115592</td>\n",
       "      <td>-1.672753</td>\n",
       "      <td>0.447632</td>\n",
       "      <td>0.306299</td>\n",
       "      <td>-0.956441</td>\n",
       "      <td>0.141254</td>\n",
       "      <td>-0.204969</td>\n",
       "      <td>0.588289</td>\n",
       "      <td>...</td>\n",
       "      <td>-0.366066</td>\n",
       "      <td>-0.979987</td>\n",
       "      <td>0.361337</td>\n",
       "      <td>0.620294</td>\n",
       "      <td>-0.294164</td>\n",
       "      <td>0.167600</td>\n",
       "      <td>-0.066769</td>\n",
       "      <td>-0.030995</td>\n",
       "      <td>0.89</td>\n",
       "      <td>0</td>\n",
       "    </tr>\n",
       "    <tr>\n",
       "      <th>25624</th>\n",
       "      <td>33693.0</td>\n",
       "      <td>-0.745720</td>\n",
       "      <td>0.724839</td>\n",
       "      <td>2.015083</td>\n",
       "      <td>-1.422795</td>\n",
       "      <td>-0.262881</td>\n",
       "      <td>-0.849840</td>\n",
       "      <td>0.655867</td>\n",
       "      <td>-0.387444</td>\n",
       "      <td>-1.559056</td>\n",
       "      <td>...</td>\n",
       "      <td>-0.227183</td>\n",
       "      <td>-0.591924</td>\n",
       "      <td>-0.036989</td>\n",
       "      <td>0.577115</td>\n",
       "      <td>0.009108</td>\n",
       "      <td>-0.652861</td>\n",
       "      <td>-0.135404</td>\n",
       "      <td>-0.094540</td>\n",
       "      <td>2.94</td>\n",
       "      <td>0</td>\n",
       "    </tr>\n",
       "    <tr>\n",
       "      <th>...</th>\n",
       "      <td>...</td>\n",
       "      <td>...</td>\n",
       "      <td>...</td>\n",
       "      <td>...</td>\n",
       "      <td>...</td>\n",
       "      <td>...</td>\n",
       "      <td>...</td>\n",
       "      <td>...</td>\n",
       "      <td>...</td>\n",
       "      <td>...</td>\n",
       "      <td>...</td>\n",
       "      <td>...</td>\n",
       "      <td>...</td>\n",
       "      <td>...</td>\n",
       "      <td>...</td>\n",
       "      <td>...</td>\n",
       "      <td>...</td>\n",
       "      <td>...</td>\n",
       "      <td>...</td>\n",
       "      <td>...</td>\n",
       "      <td>...</td>\n",
       "    </tr>\n",
       "    <tr>\n",
       "      <th>78331</th>\n",
       "      <td>57479.0</td>\n",
       "      <td>1.044094</td>\n",
       "      <td>-0.331808</td>\n",
       "      <td>1.073190</td>\n",
       "      <td>1.546918</td>\n",
       "      <td>-0.605499</td>\n",
       "      <td>1.086849</td>\n",
       "      <td>-0.716216</td>\n",
       "      <td>0.520166</td>\n",
       "      <td>1.198131</td>\n",
       "      <td>...</td>\n",
       "      <td>-0.394772</td>\n",
       "      <td>-0.771578</td>\n",
       "      <td>0.039363</td>\n",
       "      <td>-0.333755</td>\n",
       "      <td>0.395407</td>\n",
       "      <td>-0.503548</td>\n",
       "      <td>0.077612</td>\n",
       "      <td>0.013980</td>\n",
       "      <td>18.40</td>\n",
       "      <td>0</td>\n",
       "    </tr>\n",
       "    <tr>\n",
       "      <th>61752</th>\n",
       "      <td>49971.0</td>\n",
       "      <td>1.113399</td>\n",
       "      <td>-0.764988</td>\n",
       "      <td>1.060626</td>\n",
       "      <td>0.226838</td>\n",
       "      <td>-1.116453</td>\n",
       "      <td>0.587926</td>\n",
       "      <td>-1.050377</td>\n",
       "      <td>0.171407</td>\n",
       "      <td>-0.776561</td>\n",
       "      <td>...</td>\n",
       "      <td>-0.039877</td>\n",
       "      <td>0.251243</td>\n",
       "      <td>-0.200864</td>\n",
       "      <td>-0.488167</td>\n",
       "      <td>0.353724</td>\n",
       "      <td>-0.233265</td>\n",
       "      <td>0.090074</td>\n",
       "      <td>0.048759</td>\n",
       "      <td>100.00</td>\n",
       "      <td>0</td>\n",
       "    </tr>\n",
       "    <tr>\n",
       "      <th>96229</th>\n",
       "      <td>65675.0</td>\n",
       "      <td>-5.277692</td>\n",
       "      <td>3.487837</td>\n",
       "      <td>-1.201844</td>\n",
       "      <td>-0.192904</td>\n",
       "      <td>-0.158582</td>\n",
       "      <td>0.949549</td>\n",
       "      <td>0.467901</td>\n",
       "      <td>-0.788434</td>\n",
       "      <td>4.652615</td>\n",
       "      <td>...</td>\n",
       "      <td>-0.477313</td>\n",
       "      <td>-1.077669</td>\n",
       "      <td>0.160074</td>\n",
       "      <td>-1.535126</td>\n",
       "      <td>0.873245</td>\n",
       "      <td>-0.322503</td>\n",
       "      <td>1.383375</td>\n",
       "      <td>0.758996</td>\n",
       "      <td>28.90</td>\n",
       "      <td>0</td>\n",
       "    </tr>\n",
       "    <tr>\n",
       "      <th>245181</th>\n",
       "      <td>152637.0</td>\n",
       "      <td>1.989329</td>\n",
       "      <td>-0.679399</td>\n",
       "      <td>-0.384935</td>\n",
       "      <td>0.066623</td>\n",
       "      <td>-0.406900</td>\n",
       "      <td>0.854302</td>\n",
       "      <td>-1.148697</td>\n",
       "      <td>0.427582</td>\n",
       "      <td>1.389666</td>\n",
       "      <td>...</td>\n",
       "      <td>-0.019563</td>\n",
       "      <td>0.017085</td>\n",
       "      <td>0.255140</td>\n",
       "      <td>-0.219918</td>\n",
       "      <td>-0.508703</td>\n",
       "      <td>0.367023</td>\n",
       "      <td>-0.016167</td>\n",
       "      <td>-0.052115</td>\n",
       "      <td>6.99</td>\n",
       "      <td>0</td>\n",
       "    </tr>\n",
       "    <tr>\n",
       "      <th>266250</th>\n",
       "      <td>162252.0</td>\n",
       "      <td>-1.351274</td>\n",
       "      <td>0.790986</td>\n",
       "      <td>1.192294</td>\n",
       "      <td>0.972096</td>\n",
       "      <td>0.759926</td>\n",
       "      <td>0.714436</td>\n",
       "      <td>0.013738</td>\n",
       "      <td>0.716904</td>\n",
       "      <td>-0.195462</td>\n",
       "      <td>...</td>\n",
       "      <td>-0.509125</td>\n",
       "      <td>-1.440612</td>\n",
       "      <td>-0.153705</td>\n",
       "      <td>-0.021872</td>\n",
       "      <td>0.540235</td>\n",
       "      <td>-0.776641</td>\n",
       "      <td>0.241591</td>\n",
       "      <td>0.000215</td>\n",
       "      <td>16.62</td>\n",
       "      <td>0</td>\n",
       "    </tr>\n",
       "  </tbody>\n",
       "</table>\n",
       "<p>492 rows × 31 columns</p>\n",
       "</div>"
      ],
      "text/plain": [
       "            Time        V1        V2        V3        V4        V5        V6  \\\n",
       "176470  122783.0  1.966685 -0.479094 -0.431815 -0.045090 -0.525147 -0.029613   \n",
       "142832   84965.0 -1.113915  0.878354  1.151768  0.134744  0.355986 -1.098831   \n",
       "170040  119991.0  1.954641  0.566655 -1.145624  3.379096  0.982731  0.527518   \n",
       "161535  114294.0  2.068960  0.115592 -1.672753  0.447632  0.306299 -0.956441   \n",
       "25624    33693.0 -0.745720  0.724839  2.015083 -1.422795 -0.262881 -0.849840   \n",
       "...          ...       ...       ...       ...       ...       ...       ...   \n",
       "78331    57479.0  1.044094 -0.331808  1.073190  1.546918 -0.605499  1.086849   \n",
       "61752    49971.0  1.113399 -0.764988  1.060626  0.226838 -1.116453  0.587926   \n",
       "96229    65675.0 -5.277692  3.487837 -1.201844 -0.192904 -0.158582  0.949549   \n",
       "245181  152637.0  1.989329 -0.679399 -0.384935  0.066623 -0.406900  0.854302   \n",
       "266250  162252.0 -1.351274  0.790986  1.192294  0.972096  0.759926  0.714436   \n",
       "\n",
       "              V7        V8        V9  ...       V21       V22       V23  \\\n",
       "176470 -0.728101  0.220361  1.196864  ... -0.154520 -0.396971  0.438297   \n",
       "142832  0.718443 -0.270557 -0.355328  ... -0.249095 -0.542071  0.345410   \n",
       "170040  0.155263  0.053430 -1.335515  ...  0.236659  0.611027  0.021971   \n",
       "161535  0.141254 -0.204969  0.588289  ... -0.366066 -0.979987  0.361337   \n",
       "25624   0.655867 -0.387444 -1.559056  ... -0.227183 -0.591924 -0.036989   \n",
       "...          ...       ...       ...  ...       ...       ...       ...   \n",
       "78331  -0.716216  0.520166  1.198131  ... -0.394772 -0.771578  0.039363   \n",
       "61752  -1.050377  0.171407 -0.776561  ... -0.039877  0.251243 -0.200864   \n",
       "96229   0.467901 -0.788434  4.652615  ... -0.477313 -1.077669  0.160074   \n",
       "245181 -1.148697  0.427582  1.389666  ... -0.019563  0.017085  0.255140   \n",
       "266250  0.013738  0.716904 -0.195462  ... -0.509125 -1.440612 -0.153705   \n",
       "\n",
       "             V24       V25       V26       V27       V28  Amount  Class  \n",
       "176470  0.651224 -0.561483 -0.330433 -0.001270 -0.042397    1.23      0  \n",
       "142832  0.358835 -0.045294  0.043555 -0.163115  0.217452    1.79      0  \n",
       "170040  0.176043  0.178854  0.112445 -0.056986 -0.060989    4.53      0  \n",
       "161535  0.620294 -0.294164  0.167600 -0.066769 -0.030995    0.89      0  \n",
       "25624   0.577115  0.009108 -0.652861 -0.135404 -0.094540    2.94      0  \n",
       "...          ...       ...       ...       ...       ...     ...    ...  \n",
       "78331  -0.333755  0.395407 -0.503548  0.077612  0.013980   18.40      0  \n",
       "61752  -0.488167  0.353724 -0.233265  0.090074  0.048759  100.00      0  \n",
       "96229  -1.535126  0.873245 -0.322503  1.383375  0.758996   28.90      0  \n",
       "245181 -0.219918 -0.508703  0.367023 -0.016167 -0.052115    6.99      0  \n",
       "266250 -0.021872  0.540235 -0.776641  0.241591  0.000215   16.62      0  \n",
       "\n",
       "[492 rows x 31 columns]"
      ]
     },
     "execution_count": 12,
     "metadata": {},
     "output_type": "execute_result"
    }
   ],
   "source": [
    "legal_sample"
   ]
  },
  {
   "cell_type": "code",
   "execution_count": 13,
   "metadata": {
    "executionInfo": {
     "elapsed": 379,
     "status": "ok",
     "timestamp": 1693982886559,
     "user": {
      "displayName": "IQRA AKRAM",
      "userId": "12548164807019906115"
     },
     "user_tz": -300
    },
    "id": "dB27vlZGPesH"
   },
   "outputs": [],
   "source": [
    "new_df=pd.concat([legal_sample,fraud],axis=0)# axis 0 means rows if we do axis 1 then it means column"
   ]
  },
  {
   "cell_type": "code",
   "execution_count": 14,
   "metadata": {
    "colab": {
     "base_uri": "https://localhost:8080/",
     "height": 443
    },
    "executionInfo": {
     "elapsed": 16,
     "status": "ok",
     "timestamp": 1693982892022,
     "user": {
      "displayName": "IQRA AKRAM",
      "userId": "12548164807019906115"
     },
     "user_tz": -300
    },
    "id": "TF3vb9W9P4XN",
    "outputId": "1743c582-0b3c-4a64-9a13-6892b9fceeee"
   },
   "outputs": [
    {
     "data": {
      "text/html": [
       "<div>\n",
       "<style scoped>\n",
       "    .dataframe tbody tr th:only-of-type {\n",
       "        vertical-align: middle;\n",
       "    }\n",
       "\n",
       "    .dataframe tbody tr th {\n",
       "        vertical-align: top;\n",
       "    }\n",
       "\n",
       "    .dataframe thead th {\n",
       "        text-align: right;\n",
       "    }\n",
       "</style>\n",
       "<table border=\"1\" class=\"dataframe\">\n",
       "  <thead>\n",
       "    <tr style=\"text-align: right;\">\n",
       "      <th></th>\n",
       "      <th>Time</th>\n",
       "      <th>V1</th>\n",
       "      <th>V2</th>\n",
       "      <th>V3</th>\n",
       "      <th>V4</th>\n",
       "      <th>V5</th>\n",
       "      <th>V6</th>\n",
       "      <th>V7</th>\n",
       "      <th>V8</th>\n",
       "      <th>V9</th>\n",
       "      <th>...</th>\n",
       "      <th>V21</th>\n",
       "      <th>V22</th>\n",
       "      <th>V23</th>\n",
       "      <th>V24</th>\n",
       "      <th>V25</th>\n",
       "      <th>V26</th>\n",
       "      <th>V27</th>\n",
       "      <th>V28</th>\n",
       "      <th>Amount</th>\n",
       "      <th>Class</th>\n",
       "    </tr>\n",
       "  </thead>\n",
       "  <tbody>\n",
       "    <tr>\n",
       "      <th>176470</th>\n",
       "      <td>122783.0</td>\n",
       "      <td>1.966685</td>\n",
       "      <td>-0.479094</td>\n",
       "      <td>-0.431815</td>\n",
       "      <td>-0.045090</td>\n",
       "      <td>-0.525147</td>\n",
       "      <td>-0.029613</td>\n",
       "      <td>-0.728101</td>\n",
       "      <td>0.220361</td>\n",
       "      <td>1.196864</td>\n",
       "      <td>...</td>\n",
       "      <td>-0.154520</td>\n",
       "      <td>-0.396971</td>\n",
       "      <td>0.438297</td>\n",
       "      <td>0.651224</td>\n",
       "      <td>-0.561483</td>\n",
       "      <td>-0.330433</td>\n",
       "      <td>-0.001270</td>\n",
       "      <td>-0.042397</td>\n",
       "      <td>1.23</td>\n",
       "      <td>0</td>\n",
       "    </tr>\n",
       "    <tr>\n",
       "      <th>142832</th>\n",
       "      <td>84965.0</td>\n",
       "      <td>-1.113915</td>\n",
       "      <td>0.878354</td>\n",
       "      <td>1.151768</td>\n",
       "      <td>0.134744</td>\n",
       "      <td>0.355986</td>\n",
       "      <td>-1.098831</td>\n",
       "      <td>0.718443</td>\n",
       "      <td>-0.270557</td>\n",
       "      <td>-0.355328</td>\n",
       "      <td>...</td>\n",
       "      <td>-0.249095</td>\n",
       "      <td>-0.542071</td>\n",
       "      <td>0.345410</td>\n",
       "      <td>0.358835</td>\n",
       "      <td>-0.045294</td>\n",
       "      <td>0.043555</td>\n",
       "      <td>-0.163115</td>\n",
       "      <td>0.217452</td>\n",
       "      <td>1.79</td>\n",
       "      <td>0</td>\n",
       "    </tr>\n",
       "    <tr>\n",
       "      <th>170040</th>\n",
       "      <td>119991.0</td>\n",
       "      <td>1.954641</td>\n",
       "      <td>0.566655</td>\n",
       "      <td>-1.145624</td>\n",
       "      <td>3.379096</td>\n",
       "      <td>0.982731</td>\n",
       "      <td>0.527518</td>\n",
       "      <td>0.155263</td>\n",
       "      <td>0.053430</td>\n",
       "      <td>-1.335515</td>\n",
       "      <td>...</td>\n",
       "      <td>0.236659</td>\n",
       "      <td>0.611027</td>\n",
       "      <td>0.021971</td>\n",
       "      <td>0.176043</td>\n",
       "      <td>0.178854</td>\n",
       "      <td>0.112445</td>\n",
       "      <td>-0.056986</td>\n",
       "      <td>-0.060989</td>\n",
       "      <td>4.53</td>\n",
       "      <td>0</td>\n",
       "    </tr>\n",
       "    <tr>\n",
       "      <th>161535</th>\n",
       "      <td>114294.0</td>\n",
       "      <td>2.068960</td>\n",
       "      <td>0.115592</td>\n",
       "      <td>-1.672753</td>\n",
       "      <td>0.447632</td>\n",
       "      <td>0.306299</td>\n",
       "      <td>-0.956441</td>\n",
       "      <td>0.141254</td>\n",
       "      <td>-0.204969</td>\n",
       "      <td>0.588289</td>\n",
       "      <td>...</td>\n",
       "      <td>-0.366066</td>\n",
       "      <td>-0.979987</td>\n",
       "      <td>0.361337</td>\n",
       "      <td>0.620294</td>\n",
       "      <td>-0.294164</td>\n",
       "      <td>0.167600</td>\n",
       "      <td>-0.066769</td>\n",
       "      <td>-0.030995</td>\n",
       "      <td>0.89</td>\n",
       "      <td>0</td>\n",
       "    </tr>\n",
       "    <tr>\n",
       "      <th>25624</th>\n",
       "      <td>33693.0</td>\n",
       "      <td>-0.745720</td>\n",
       "      <td>0.724839</td>\n",
       "      <td>2.015083</td>\n",
       "      <td>-1.422795</td>\n",
       "      <td>-0.262881</td>\n",
       "      <td>-0.849840</td>\n",
       "      <td>0.655867</td>\n",
       "      <td>-0.387444</td>\n",
       "      <td>-1.559056</td>\n",
       "      <td>...</td>\n",
       "      <td>-0.227183</td>\n",
       "      <td>-0.591924</td>\n",
       "      <td>-0.036989</td>\n",
       "      <td>0.577115</td>\n",
       "      <td>0.009108</td>\n",
       "      <td>-0.652861</td>\n",
       "      <td>-0.135404</td>\n",
       "      <td>-0.094540</td>\n",
       "      <td>2.94</td>\n",
       "      <td>0</td>\n",
       "    </tr>\n",
       "    <tr>\n",
       "      <th>...</th>\n",
       "      <td>...</td>\n",
       "      <td>...</td>\n",
       "      <td>...</td>\n",
       "      <td>...</td>\n",
       "      <td>...</td>\n",
       "      <td>...</td>\n",
       "      <td>...</td>\n",
       "      <td>...</td>\n",
       "      <td>...</td>\n",
       "      <td>...</td>\n",
       "      <td>...</td>\n",
       "      <td>...</td>\n",
       "      <td>...</td>\n",
       "      <td>...</td>\n",
       "      <td>...</td>\n",
       "      <td>...</td>\n",
       "      <td>...</td>\n",
       "      <td>...</td>\n",
       "      <td>...</td>\n",
       "      <td>...</td>\n",
       "      <td>...</td>\n",
       "    </tr>\n",
       "    <tr>\n",
       "      <th>279863</th>\n",
       "      <td>169142.0</td>\n",
       "      <td>-1.927883</td>\n",
       "      <td>1.125653</td>\n",
       "      <td>-4.518331</td>\n",
       "      <td>1.749293</td>\n",
       "      <td>-1.566487</td>\n",
       "      <td>-2.010494</td>\n",
       "      <td>-0.882850</td>\n",
       "      <td>0.697211</td>\n",
       "      <td>-2.064945</td>\n",
       "      <td>...</td>\n",
       "      <td>0.778584</td>\n",
       "      <td>-0.319189</td>\n",
       "      <td>0.639419</td>\n",
       "      <td>-0.294885</td>\n",
       "      <td>0.537503</td>\n",
       "      <td>0.788395</td>\n",
       "      <td>0.292680</td>\n",
       "      <td>0.147968</td>\n",
       "      <td>390.00</td>\n",
       "      <td>1</td>\n",
       "    </tr>\n",
       "    <tr>\n",
       "      <th>280143</th>\n",
       "      <td>169347.0</td>\n",
       "      <td>1.378559</td>\n",
       "      <td>1.289381</td>\n",
       "      <td>-5.004247</td>\n",
       "      <td>1.411850</td>\n",
       "      <td>0.442581</td>\n",
       "      <td>-1.326536</td>\n",
       "      <td>-1.413170</td>\n",
       "      <td>0.248525</td>\n",
       "      <td>-1.127396</td>\n",
       "      <td>...</td>\n",
       "      <td>0.370612</td>\n",
       "      <td>0.028234</td>\n",
       "      <td>-0.145640</td>\n",
       "      <td>-0.081049</td>\n",
       "      <td>0.521875</td>\n",
       "      <td>0.739467</td>\n",
       "      <td>0.389152</td>\n",
       "      <td>0.186637</td>\n",
       "      <td>0.76</td>\n",
       "      <td>1</td>\n",
       "    </tr>\n",
       "    <tr>\n",
       "      <th>280149</th>\n",
       "      <td>169351.0</td>\n",
       "      <td>-0.676143</td>\n",
       "      <td>1.126366</td>\n",
       "      <td>-2.213700</td>\n",
       "      <td>0.468308</td>\n",
       "      <td>-1.120541</td>\n",
       "      <td>-0.003346</td>\n",
       "      <td>-2.234739</td>\n",
       "      <td>1.210158</td>\n",
       "      <td>-0.652250</td>\n",
       "      <td>...</td>\n",
       "      <td>0.751826</td>\n",
       "      <td>0.834108</td>\n",
       "      <td>0.190944</td>\n",
       "      <td>0.032070</td>\n",
       "      <td>-0.739695</td>\n",
       "      <td>0.471111</td>\n",
       "      <td>0.385107</td>\n",
       "      <td>0.194361</td>\n",
       "      <td>77.89</td>\n",
       "      <td>1</td>\n",
       "    </tr>\n",
       "    <tr>\n",
       "      <th>281144</th>\n",
       "      <td>169966.0</td>\n",
       "      <td>-3.113832</td>\n",
       "      <td>0.585864</td>\n",
       "      <td>-5.399730</td>\n",
       "      <td>1.817092</td>\n",
       "      <td>-0.840618</td>\n",
       "      <td>-2.943548</td>\n",
       "      <td>-2.208002</td>\n",
       "      <td>1.058733</td>\n",
       "      <td>-1.632333</td>\n",
       "      <td>...</td>\n",
       "      <td>0.583276</td>\n",
       "      <td>-0.269209</td>\n",
       "      <td>-0.456108</td>\n",
       "      <td>-0.183659</td>\n",
       "      <td>-0.328168</td>\n",
       "      <td>0.606116</td>\n",
       "      <td>0.884876</td>\n",
       "      <td>-0.253700</td>\n",
       "      <td>245.00</td>\n",
       "      <td>1</td>\n",
       "    </tr>\n",
       "    <tr>\n",
       "      <th>281674</th>\n",
       "      <td>170348.0</td>\n",
       "      <td>1.991976</td>\n",
       "      <td>0.158476</td>\n",
       "      <td>-2.583441</td>\n",
       "      <td>0.408670</td>\n",
       "      <td>1.151147</td>\n",
       "      <td>-0.096695</td>\n",
       "      <td>0.223050</td>\n",
       "      <td>-0.068384</td>\n",
       "      <td>0.577829</td>\n",
       "      <td>...</td>\n",
       "      <td>-0.164350</td>\n",
       "      <td>-0.295135</td>\n",
       "      <td>-0.072173</td>\n",
       "      <td>-0.450261</td>\n",
       "      <td>0.313267</td>\n",
       "      <td>-0.289617</td>\n",
       "      <td>0.002988</td>\n",
       "      <td>-0.015309</td>\n",
       "      <td>42.53</td>\n",
       "      <td>1</td>\n",
       "    </tr>\n",
       "  </tbody>\n",
       "</table>\n",
       "<p>984 rows × 31 columns</p>\n",
       "</div>"
      ],
      "text/plain": [
       "            Time        V1        V2        V3        V4        V5        V6  \\\n",
       "176470  122783.0  1.966685 -0.479094 -0.431815 -0.045090 -0.525147 -0.029613   \n",
       "142832   84965.0 -1.113915  0.878354  1.151768  0.134744  0.355986 -1.098831   \n",
       "170040  119991.0  1.954641  0.566655 -1.145624  3.379096  0.982731  0.527518   \n",
       "161535  114294.0  2.068960  0.115592 -1.672753  0.447632  0.306299 -0.956441   \n",
       "25624    33693.0 -0.745720  0.724839  2.015083 -1.422795 -0.262881 -0.849840   \n",
       "...          ...       ...       ...       ...       ...       ...       ...   \n",
       "279863  169142.0 -1.927883  1.125653 -4.518331  1.749293 -1.566487 -2.010494   \n",
       "280143  169347.0  1.378559  1.289381 -5.004247  1.411850  0.442581 -1.326536   \n",
       "280149  169351.0 -0.676143  1.126366 -2.213700  0.468308 -1.120541 -0.003346   \n",
       "281144  169966.0 -3.113832  0.585864 -5.399730  1.817092 -0.840618 -2.943548   \n",
       "281674  170348.0  1.991976  0.158476 -2.583441  0.408670  1.151147 -0.096695   \n",
       "\n",
       "              V7        V8        V9  ...       V21       V22       V23  \\\n",
       "176470 -0.728101  0.220361  1.196864  ... -0.154520 -0.396971  0.438297   \n",
       "142832  0.718443 -0.270557 -0.355328  ... -0.249095 -0.542071  0.345410   \n",
       "170040  0.155263  0.053430 -1.335515  ...  0.236659  0.611027  0.021971   \n",
       "161535  0.141254 -0.204969  0.588289  ... -0.366066 -0.979987  0.361337   \n",
       "25624   0.655867 -0.387444 -1.559056  ... -0.227183 -0.591924 -0.036989   \n",
       "...          ...       ...       ...  ...       ...       ...       ...   \n",
       "279863 -0.882850  0.697211 -2.064945  ...  0.778584 -0.319189  0.639419   \n",
       "280143 -1.413170  0.248525 -1.127396  ...  0.370612  0.028234 -0.145640   \n",
       "280149 -2.234739  1.210158 -0.652250  ...  0.751826  0.834108  0.190944   \n",
       "281144 -2.208002  1.058733 -1.632333  ...  0.583276 -0.269209 -0.456108   \n",
       "281674  0.223050 -0.068384  0.577829  ... -0.164350 -0.295135 -0.072173   \n",
       "\n",
       "             V24       V25       V26       V27       V28  Amount  Class  \n",
       "176470  0.651224 -0.561483 -0.330433 -0.001270 -0.042397    1.23      0  \n",
       "142832  0.358835 -0.045294  0.043555 -0.163115  0.217452    1.79      0  \n",
       "170040  0.176043  0.178854  0.112445 -0.056986 -0.060989    4.53      0  \n",
       "161535  0.620294 -0.294164  0.167600 -0.066769 -0.030995    0.89      0  \n",
       "25624   0.577115  0.009108 -0.652861 -0.135404 -0.094540    2.94      0  \n",
       "...          ...       ...       ...       ...       ...     ...    ...  \n",
       "279863 -0.294885  0.537503  0.788395  0.292680  0.147968  390.00      1  \n",
       "280143 -0.081049  0.521875  0.739467  0.389152  0.186637    0.76      1  \n",
       "280149  0.032070 -0.739695  0.471111  0.385107  0.194361   77.89      1  \n",
       "281144 -0.183659 -0.328168  0.606116  0.884876 -0.253700  245.00      1  \n",
       "281674 -0.450261  0.313267 -0.289617  0.002988 -0.015309   42.53      1  \n",
       "\n",
       "[984 rows x 31 columns]"
      ]
     },
     "execution_count": 14,
     "metadata": {},
     "output_type": "execute_result"
    }
   ],
   "source": [
    "new_df"
   ]
  },
  {
   "cell_type": "code",
   "execution_count": 29,
   "metadata": {
    "colab": {
     "base_uri": "https://localhost:8080/",
     "height": 564
    },
    "executionInfo": {
     "elapsed": 451,
     "status": "ok",
     "timestamp": 1693985457908,
     "user": {
      "displayName": "IQRA AKRAM",
      "userId": "12548164807019906115"
     },
     "user_tz": -300
    },
    "id": "3uYD_5s7ZrAT",
    "outputId": "96553577-2a68-4806-85e4-bc28c7bd7aba"
   },
   "outputs": [
    {
     "data": {
      "image/png": "[encoded data removed]",
      "text/plain": [
       "<Figure size 800x600 with 1 Axes>"
      ]
     },
     "metadata": {},
     "output_type": "display_data"
    }
   ],
   "source": [
    "class_total = new_df.groupby('Class')['Amount'].sum().reset_index()\n",
    "\n",
    "\n",
    "# Create a bar chart\n",
    "plt.figure(figsize=(8, 6))\n",
    "plt.bar(class_total['Class'].astype(str), class_total['Amount'], color=['red', 'green'])\n",
    "plt.xlabel('Transaction Class')\n",
    "plt.ylabel('Total Amount')\n",
    "plt.title('Total Amount by Transaction Class')\n",
    "plt.xticks([0, 1], ['0 (Legal)', '1 (Fraud)'])  # Label the x-axis ticks\n",
    "plt.show()"
   ]
  },
  {
   "cell_type": "markdown",
   "metadata": {
    "id": "2gsD4lWfZ0tm"
   },
   "source": [
    "as you can see the bar plot shows the balance data and also shows that more fraud have occur"
   ]
  },
  {
   "cell_type": "markdown",
   "metadata": {
    "id": "vYejA99bQJnx"
   },
   "source": [
    "now as the data set in perfectly balance because legal and fraud transaction are now equal no we can train our model on new_df by using train_test_split\n"
   ]
  },
  {
   "cell_type": "code",
   "execution_count": 16,
   "metadata": {
    "executionInfo": {
     "elapsed": 319,
     "status": "ok",
     "timestamp": 1693983073502,
     "user": {
      "displayName": "IQRA AKRAM",
      "userId": "12548164807019906115"
     },
     "user_tz": -300
    },
    "id": "STlG7e0oP5sQ"
   },
   "outputs": [],
   "source": [
    "X=new_df.drop(\"Class\",axis=1)\n",
    "Y=new_df.Class"
   ]
  },
  {
   "cell_type": "code",
   "execution_count": 17,
   "metadata": {
    "colab": {
     "base_uri": "https://localhost:8080/",
     "height": 161
    },
    "executionInfo": {
     "elapsed": 16,
     "status": "ok",
     "timestamp": 1693983079918,
     "user": {
      "displayName": "IQRA AKRAM",
      "userId": "12548164807019906115"
     },
     "user_tz": -300
    },
    "id": "gbpgUKL7QmA7",
    "outputId": "7e8df417-5168-46dd-fcef-0a35986d3b8d"
   },
   "outputs": [
    {
     "data": {
      "text/html": [
       "<div>\n",
       "<style scoped>\n",
       "    .dataframe tbody tr th:only-of-type {\n",
       "        vertical-align: middle;\n",
       "    }\n",
       "\n",
       "    .dataframe tbody tr th {\n",
       "        vertical-align: top;\n",
       "    }\n",
       "\n",
       "    .dataframe thead th {\n",
       "        text-align: right;\n",
       "    }\n",
       "</style>\n",
       "<table border=\"1\" class=\"dataframe\">\n",
       "  <thead>\n",
       "    <tr style=\"text-align: right;\">\n",
       "      <th></th>\n",
       "      <th>Time</th>\n",
       "      <th>V1</th>\n",
       "      <th>V2</th>\n",
       "      <th>V3</th>\n",
       "      <th>V4</th>\n",
       "      <th>V5</th>\n",
       "      <th>V6</th>\n",
       "      <th>V7</th>\n",
       "      <th>V8</th>\n",
       "      <th>V9</th>\n",
       "      <th>...</th>\n",
       "      <th>V20</th>\n",
       "      <th>V21</th>\n",
       "      <th>V22</th>\n",
       "      <th>V23</th>\n",
       "      <th>V24</th>\n",
       "      <th>V25</th>\n",
       "      <th>V26</th>\n",
       "      <th>V27</th>\n",
       "      <th>V28</th>\n",
       "      <th>Amount</th>\n",
       "    </tr>\n",
       "  </thead>\n",
       "  <tbody>\n",
       "    <tr>\n",
       "      <th>176470</th>\n",
       "      <td>122783.0</td>\n",
       "      <td>1.966685</td>\n",
       "      <td>-0.479094</td>\n",
       "      <td>-0.431815</td>\n",
       "      <td>-0.045090</td>\n",
       "      <td>-0.525147</td>\n",
       "      <td>-0.029613</td>\n",
       "      <td>-0.728101</td>\n",
       "      <td>0.220361</td>\n",
       "      <td>1.196864</td>\n",
       "      <td>...</td>\n",
       "      <td>-0.248817</td>\n",
       "      <td>-0.154520</td>\n",
       "      <td>-0.396971</td>\n",
       "      <td>0.438297</td>\n",
       "      <td>0.651224</td>\n",
       "      <td>-0.561483</td>\n",
       "      <td>-0.330433</td>\n",
       "      <td>-0.001270</td>\n",
       "      <td>-0.042397</td>\n",
       "      <td>1.23</td>\n",
       "    </tr>\n",
       "    <tr>\n",
       "      <th>142832</th>\n",
       "      <td>84965.0</td>\n",
       "      <td>-1.113915</td>\n",
       "      <td>0.878354</td>\n",
       "      <td>1.151768</td>\n",
       "      <td>0.134744</td>\n",
       "      <td>0.355986</td>\n",
       "      <td>-1.098831</td>\n",
       "      <td>0.718443</td>\n",
       "      <td>-0.270557</td>\n",
       "      <td>-0.355328</td>\n",
       "      <td>...</td>\n",
       "      <td>0.040311</td>\n",
       "      <td>-0.249095</td>\n",
       "      <td>-0.542071</td>\n",
       "      <td>0.345410</td>\n",
       "      <td>0.358835</td>\n",
       "      <td>-0.045294</td>\n",
       "      <td>0.043555</td>\n",
       "      <td>-0.163115</td>\n",
       "      <td>0.217452</td>\n",
       "      <td>1.79</td>\n",
       "    </tr>\n",
       "  </tbody>\n",
       "</table>\n",
       "<p>2 rows × 30 columns</p>\n",
       "</div>"
      ],
      "text/plain": [
       "            Time        V1        V2        V3        V4        V5        V6  \\\n",
       "176470  122783.0  1.966685 -0.479094 -0.431815 -0.045090 -0.525147 -0.029613   \n",
       "142832   84965.0 -1.113915  0.878354  1.151768  0.134744  0.355986 -1.098831   \n",
       "\n",
       "              V7        V8        V9  ...       V20       V21       V22  \\\n",
       "176470 -0.728101  0.220361  1.196864  ... -0.248817 -0.154520 -0.396971   \n",
       "142832  0.718443 -0.270557 -0.355328  ...  0.040311 -0.249095 -0.542071   \n",
       "\n",
       "             V23       V24       V25       V26       V27       V28  Amount  \n",
       "176470  0.438297  0.651224 -0.561483 -0.330433 -0.001270 -0.042397    1.23  \n",
       "142832  0.345410  0.358835 -0.045294  0.043555 -0.163115  0.217452    1.79  \n",
       "\n",
       "[2 rows x 30 columns]"
      ]
     },
     "execution_count": 17,
     "metadata": {},
     "output_type": "execute_result"
    }
   ],
   "source": [
    "X.head(2)"
   ]
  },
  {
   "cell_type": "code",
   "execution_count": 18,
   "metadata": {
    "colab": {
     "base_uri": "https://localhost:8080/"
    },
    "executionInfo": {
     "elapsed": 9,
     "status": "ok",
     "timestamp": 1693983088743,
     "user": {
      "displayName": "IQRA AKRAM",
      "userId": "12548164807019906115"
     },
     "user_tz": -300
    },
    "id": "ts8NbaIFQnqT",
    "outputId": "735c8d6f-cdfe-4e3b-90b2-8078328ac329"
   },
   "outputs": [
    {
     "data": {
      "text/plain": [
       "176470    0\n",
       "142832    0\n",
       "Name: Class, dtype: int64"
      ]
     },
     "execution_count": 18,
     "metadata": {},
     "output_type": "execute_result"
    }
   ],
   "source": [
    "Y.head(2)"
   ]
  },
  {
   "cell_type": "markdown",
   "metadata": {
    "id": "kvUhTpkeQud2"
   },
   "source": [
    "now spliting the data to train_test_split using sklearn.model_selection\n"
   ]
  },
  {
   "cell_type": "code",
   "execution_count": 19,
   "metadata": {
    "executionInfo": {
     "elapsed": 6,
     "status": "ok",
     "timestamp": 1693983246125,
     "user": {
      "displayName": "IQRA AKRAM",
      "userId": "12548164807019906115"
     },
     "user_tz": -300
    },
    "id": "NIWOmUCQQpva"
   },
   "outputs": [],
   "source": [
    "X_train,X_test,Y_train,Y_test=train_test_split(X,Y,test_size=0.2,stratify=Y,random_state=2)"
   ]
  },
  {
   "cell_type": "code",
   "execution_count": 20,
   "metadata": {
    "colab": {
     "base_uri": "https://localhost:8080/"
    },
    "executionInfo": {
     "elapsed": 3,
     "status": "ok",
     "timestamp": 1693983622234,
     "user": {
      "displayName": "IQRA AKRAM",
      "userId": "12548164807019906115"
     },
     "user_tz": -300
    },
    "id": "Q5Clgs_SRQST",
    "outputId": "b8f43783-d0a6-4b23-9f56-4d51270cfa39"
   },
   "outputs": [
    {
     "data": {
      "text/plain": [
       "(787, 30)"
      ]
     },
     "execution_count": 20,
     "metadata": {},
     "output_type": "execute_result"
    }
   ],
   "source": [
    "X_train.shape"
   ]
  },
  {
   "cell_type": "code",
   "execution_count": 21,
   "metadata": {
    "colab": {
     "base_uri": "https://localhost:8080/"
    },
    "executionInfo": {
     "elapsed": 6,
     "status": "ok",
     "timestamp": 1693983633564,
     "user": {
      "displayName": "IQRA AKRAM",
      "userId": "12548164807019906115"
     },
     "user_tz": -300
    },
    "id": "hCZ-thz4RaUz",
    "outputId": "8bed77d9-44e9-490f-e25f-5474dffcd5aa"
   },
   "outputs": [
    {
     "data": {
      "text/plain": [
       "(787,)"
      ]
     },
     "execution_count": 21,
     "metadata": {},
     "output_type": "execute_result"
    }
   ],
   "source": [
    "Y_train.shape"
   ]
  },
  {
   "cell_type": "code",
   "execution_count": 22,
   "metadata": {
    "colab": {
     "base_uri": "https://localhost:8080/"
    },
    "executionInfo": {
     "elapsed": 7,
     "status": "ok",
     "timestamp": 1693983644420,
     "user": {
      "displayName": "IQRA AKRAM",
      "userId": "12548164807019906115"
     },
     "user_tz": -300
    },
    "id": "ISxhLsvnRcnG",
    "outputId": "828f6e3d-e29f-4b4b-9951-e1b049313b0b"
   },
   "outputs": [
    {
     "data": {
      "text/plain": [
       "(197, 30)"
      ]
     },
     "execution_count": 22,
     "metadata": {},
     "output_type": "execute_result"
    }
   ],
   "source": [
    "X_test.shape"
   ]
  },
  {
   "cell_type": "code",
   "execution_count": 23,
   "metadata": {
    "colab": {
     "base_uri": "https://localhost:8080/"
    },
    "executionInfo": {
     "elapsed": 6,
     "status": "ok",
     "timestamp": 1693983652248,
     "user": {
      "displayName": "IQRA AKRAM",
      "userId": "12548164807019906115"
     },
     "user_tz": -300
    },
    "id": "ZPSw1fl_Rf9h",
    "outputId": "75e4c9dc-3b5d-48ad-ed87-56d93cfe19ff"
   },
   "outputs": [
    {
     "data": {
      "text/plain": [
       "(197,)"
      ]
     },
     "execution_count": 23,
     "metadata": {},
     "output_type": "execute_result"
    }
   ],
   "source": [
    "Y_test.shape"
   ]
  },
  {
   "cell_type": "markdown",
   "metadata": {
    "id": "_MFUdx1YSBHa"
   },
   "source": [
    "Now Training Our model from\n",
    " sklearn.linear_model using LogisticeRegression\n"
   ]
  },
  {
   "cell_type": "code",
   "execution_count": 24,
   "metadata": {
    "executionInfo": {
     "elapsed": 6,
     "status": "ok",
     "timestamp": 1693983520644,
     "user": {
      "displayName": "IQRA AKRAM",
      "userId": "12548164807019906115"
     },
     "user_tz": -300
    },
    "id": "eT3Opd-VRufh"
   },
   "outputs": [],
   "source": [
    "model=LogisticRegression()"
   ]
  },
  {
   "cell_type": "code",
   "execution_count": 25,
   "metadata": {
    "colab": {
     "base_uri": "https://localhost:8080/",
     "height": 74
    },
    "executionInfo": {
     "elapsed": 14,
     "status": "ok",
     "timestamp": 1693983690738,
     "user": {
      "displayName": "IQRA AKRAM",
      "userId": "12548164807019906115"
     },
     "user_tz": -300
    },
    "id": "M2Q2lkZDSTPU",
    "outputId": "2ea6185e-d6c0-4a5f-d386-33d63f66879a"
   },
   "outputs": [
    {
     "data": {
      "text/html": [
       "<style>#sk-container-id-1 {color: black;}#sk-container-id-1 pre{padding: 0;}#sk-container-id-1 div.sk-toggleable {background-color: white;}#sk-container-id-1 label.sk-toggleable__label {cursor: pointer;display: block;width: 100%;margin-bottom: 0;padding: 0.3em;box-sizing: border-box;text-align: center;}#sk-container-id-1 label.sk-toggleable__label-arrow:before {content: \"▸\";float: left;margin-right: 0.25em;color: #696969;}#sk-container-id-1 label.sk-toggleable__label-arrow:hover:before {color: black;}#sk-container-id-1 div.sk-estimator:hover label.sk-toggleable__label-arrow:before {color: black;}#sk-container-id-1 div.sk-toggleable__content {max-height: 0;max-width: 0;overflow: hidden;text-align: left;background-color: #f0f8ff;}#sk-container-id-1 div.sk-toggleable__content pre {margin: 0.2em;color: black;border-radius: 0.25em;background-color: #f0f8ff;}#sk-container-id-1 input.sk-toggleable__control:checked~div.sk-toggleable__content {max-height: 200px;max-width: 100%;overflow: auto;}#sk-container-id-1 input.sk-toggleable__control:checked~label.sk-toggleable__label-arrow:before {content: \"▾\";}#sk-container-id-1 div.sk-estimator input.sk-toggleable__control:checked~label.sk-toggleable__label {background-color: #d4ebff;}#sk-container-id-1 div.sk-label input.sk-toggleable__control:checked~label.sk-toggleable__label {background-color: #d4ebff;}#sk-container-id-1 input.sk-hidden--visually {border: 0;clip: rect(1px 1px 1px 1px);clip: rect(1px, 1px, 1px, 1px);height: 1px;margin: -1px;overflow: hidden;padding: 0;position: absolute;width: 1px;}#sk-container-id-1 div.sk-estimator {font-family: monospace;background-color: #f0f8ff;border: 1px dotted black;border-radius: 0.25em;box-sizing: border-box;margin-bottom: 0.5em;}#sk-container-id-1 div.sk-estimator:hover {background-color: #d4ebff;}#sk-container-id-1 div.sk-parallel-item::after {content: \"\";width: 100%;border-bottom: 1px solid gray;flex-grow: 1;}#sk-container-id-1 div.sk-label:hover label.sk-toggleable__label {background-color: #d4ebff;}#sk-container-id-1 div.sk-serial::before {content: \"\";position: absolute;border-left: 1px solid gray;box-sizing: border-box;top: 0;bottom: 0;left: 50%;z-index: 0;}#sk-container-id-1 div.sk-serial {display: flex;flex-direction: column;align-items: center;background-color: white;padding-right: 0.2em;padding-left: 0.2em;position: relative;}#sk-container-id-1 div.sk-item {position: relative;z-index: 1;}#sk-container-id-1 div.sk-parallel {display: flex;align-items: stretch;justify-content: center;background-color: white;position: relative;}#sk-container-id-1 div.sk-item::before, #sk-container-id-1 div.sk-parallel-item::before {content: \"\";position: absolute;border-left: 1px solid gray;box-sizing: border-box;top: 0;bottom: 0;left: 50%;z-index: -1;}#sk-container-id-1 div.sk-parallel-item {display: flex;flex-direction: column;z-index: 1;position: relative;background-color: white;}#sk-container-id-1 div.sk-parallel-item:first-child::after {align-self: flex-end;width: 50%;}#sk-container-id-1 div.sk-parallel-item:last-child::after {align-self: flex-start;width: 50%;}#sk-container-id-1 div.sk-parallel-item:only-child::after {width: 0;}#sk-container-id-1 div.sk-dashed-wrapped {border: 1px dashed gray;margin: 0 0.4em 0.5em 0.4em;box-sizing: border-box;padding-bottom: 0.4em;background-color: white;}#sk-container-id-1 div.sk-label label {font-family: monospace;font-weight: bold;display: inline-block;line-height: 1.2em;}#sk-container-id-1 div.sk-label-container {text-align: center;}#sk-container-id-1 div.sk-container {/* jupyter's `normalize.less` sets `[hidden] { display: none; }` but bootstrap.min.css set `[hidden] { display: none !important; }` so we also need the `!important` here to be able to override the default hidden behavior on the sphinx rendered scikit-learn.org. See: https://github.com/scikit-learn/scikit-learn/issues/21755 */display: inline-block !important;position: relative;}#sk-container-id-1 div.sk-text-repr-fallback {display: none;}</style><div id=\"sk-container-id-1\" class=\"sk-top-container\"><div class=\"sk-text-repr-fallback\"><pre>LogisticRegression()</pre><b>In a Jupyter environment, please rerun this cell to show the HTML representation or trust the notebook. <br />On GitHub, the HTML representation is unable to render, please try loading this page with nbviewer.org.</b></div><div class=\"sk-container\" hidden><div class=\"sk-item\"><div class=\"sk-estimator sk-toggleable\"><input class=\"sk-toggleable__control sk-hidden--visually\" id=\"sk-estimator-id-1\" type=\"checkbox\" checked><label for=\"sk-estimator-id-1\" class=\"sk-toggleable__label sk-toggleable__label-arrow\">LogisticRegression</label><div class=\"sk-toggleable__content\"><pre>LogisticRegression()</pre></div></div></div></div></div>"
      ],
      "text/plain": [
       "LogisticRegression()"
      ]
     },
     "execution_count": 25,
     "metadata": {},
     "output_type": "execute_result"
    }
   ],
   "source": [
    "model.fit(X_train,Y_train)"
   ]
  },
  {
   "cell_type": "code",
   "execution_count": 26,
   "metadata": {
    "colab": {
     "base_uri": "https://localhost:8080/"
    },
    "executionInfo": {
     "elapsed": 3,
     "status": "ok",
     "timestamp": 1693983756302,
     "user": {
      "displayName": "IQRA AKRAM",
      "userId": "12548164807019906115"
     },
     "user_tz": -300
    },
    "id": "u-v5E7JKS8lc",
    "outputId": "4b700ea4-c479-428c-e726-58254a955f27"
   },
   "outputs": [
    {
     "data": {
      "text/plain": [
       "array([1, 0, 0, 0, 1, 0, 1, 1, 0, 1, 0, 1, 1, 0, 0, 1, 0, 1, 0, 0, 0, 0,\n",
       "       0, 1, 0, 1, 1, 0, 1, 0, 1, 1, 0, 1, 1, 0, 0, 0, 0, 1, 1, 0, 0, 1,\n",
       "       1, 1, 1, 1, 0, 0, 0, 0, 0, 1, 0, 0, 0, 1, 1, 0, 1, 1, 1, 1, 1, 0,\n",
       "       1, 0, 0, 1, 0, 0, 0, 0, 1, 1, 1, 1, 1, 1, 0, 1, 1, 1, 0, 0, 0, 0,\n",
       "       0, 0, 0, 1, 1, 1, 1, 1, 1, 1, 0, 1, 1, 1, 1, 0, 1, 0, 0, 0, 0, 0,\n",
       "       0, 0, 0, 0, 0, 1, 1, 0, 0, 0, 0, 0, 0, 0, 0, 0, 0, 1, 0, 1, 1, 0,\n",
       "       0, 1, 0, 1, 0, 1, 0, 1, 0, 0, 1, 1, 1, 0, 1, 0, 1, 0, 0, 0, 1, 1,\n",
       "       0, 1, 1, 1, 0, 0, 0, 1, 0, 1, 1, 0, 0, 1, 0, 1, 1, 0, 1, 1, 0, 0,\n",
       "       0, 0, 0, 0, 0, 1, 0, 0, 1, 0, 0, 0, 0, 0, 1, 1, 0, 1, 1, 1, 0],\n",
       "      dtype=int64)"
      ]
     },
     "execution_count": 26,
     "metadata": {},
     "output_type": "execute_result"
    }
   ],
   "source": [
    "model.predict(X_test)"
   ]
  },
  {
   "cell_type": "code",
   "execution_count": 27,
   "metadata": {
    "colab": {
     "base_uri": "https://localhost:8080/"
    },
    "executionInfo": {
     "elapsed": 9,
     "status": "ok",
     "timestamp": 1693983806591,
     "user": {
      "displayName": "IQRA AKRAM",
      "userId": "12548164807019906115"
     },
     "user_tz": -300
    },
    "id": "jh5JHd6ATBwQ",
    "outputId": "981677d7-e343-4f75-c2cb-63aa29c6384f"
   },
   "outputs": [
    {
     "data": {
      "text/plain": [
       "0.928843710292249"
      ]
     },
     "execution_count": 27,
     "metadata": {},
     "output_type": "execute_result"
    }
   ],
   "source": [
    "model.score(X_train,Y_train)"
   ]
  },
  {
   "cell_type": "markdown",
   "metadata": {
    "id": "QDMgoA_dTe_5"
   },
   "source": [
    "As you can see the model is 92 percent Accurate"
   ]
  },
  {
   "cell_type": "markdown",
   "metadata": {
    "id": "XOPXEmTFZ46E"
   },
   "source": []
  }
 ],
 "metadata": {
  "colab": {
   "authorship_tag": "ABX9TyP8fW/YhfUQaAVoOUghafeb",
   "provenance": []
  },
  "kernelspec": {
   "display_name": "Python 3 (ipykernel)",
   "language": "python",
   "name": "python3"
  },
  "language_info": {
   "codemirror_mode": {
    "name": "ipython",
    "version": 3
   },
   "file_extension": ".py",
   "mimetype": "text/x-python",
   "name": "python",
   "nbconvert_exporter": "python",
   "pygments_lexer": "ipython3",
   "version": "3.11.5"
  }
 },
 "nbformat": 4,
 "nbformat_minor": 4
}
